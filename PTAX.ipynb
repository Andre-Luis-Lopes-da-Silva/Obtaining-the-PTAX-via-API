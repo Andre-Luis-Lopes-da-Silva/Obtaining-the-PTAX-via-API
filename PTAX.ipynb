{
 "cells": [
  {
   "cell_type": "code",
   "execution_count": 31,
   "id": "acf1f823",
   "metadata": {},
   "outputs": [],
   "source": [
    "### Documentation\n",
    "### https://wilsonfreitas.github.io/python-bcb/currency.html"
   ]
  },
  {
   "cell_type": "code",
   "execution_count": 1,
   "id": "224537c7",
   "metadata": {},
   "outputs": [
    {
     "name": "stdout",
     "output_type": "stream",
     "text": [
      "Collecting ipeadatapy\n",
      "  Downloading ipeadatapy-0.1.9-py3-none-any.whl (10 kB)\n",
      "Requirement already satisfied: pandas in ./anaconda3/lib/python3.9/site-packages (from ipeadatapy) (2.0.1)\n",
      "Requirement already satisfied: requests in ./anaconda3/lib/python3.9/site-packages (from ipeadatapy) (2.26.0)\n",
      "Requirement already satisfied: python-dateutil>=2.8.2 in ./anaconda3/lib/python3.9/site-packages (from pandas->ipeadatapy) (2.8.2)\n",
      "Requirement already satisfied: pytz>=2020.1 in ./anaconda3/lib/python3.9/site-packages (from pandas->ipeadatapy) (2022.7.1)\n",
      "Requirement already satisfied: tzdata>=2022.1 in ./anaconda3/lib/python3.9/site-packages (from pandas->ipeadatapy) (2023.3)\n",
      "Requirement already satisfied: numpy>=1.20.3 in ./anaconda3/lib/python3.9/site-packages (from pandas->ipeadatapy) (1.21.4)\n",
      "Requirement already satisfied: urllib3<1.27,>=1.21.1 in ./anaconda3/lib/python3.9/site-packages (from requests->ipeadatapy) (1.26.7)\n",
      "Requirement already satisfied: certifi>=2017.4.17 in ./anaconda3/lib/python3.9/site-packages (from requests->ipeadatapy) (2021.10.8)\n",
      "Requirement already satisfied: charset-normalizer~=2.0.0 in ./anaconda3/lib/python3.9/site-packages (from requests->ipeadatapy) (2.0.7)\n",
      "Requirement already satisfied: idna<4,>=2.5 in ./anaconda3/lib/python3.9/site-packages (from requests->ipeadatapy) (3.3)\n",
      "Requirement already satisfied: six>=1.5 in ./anaconda3/lib/python3.9/site-packages (from python-dateutil>=2.8.2->pandas->ipeadatapy) (1.16.0)\n",
      "Installing collected packages: ipeadatapy\n",
      "Successfully installed ipeadatapy-0.1.9\n"
     ]
    }
   ],
   "source": [
    "!pip install ipeadatapy"
   ]
  },
  {
   "cell_type": "code",
   "execution_count": 2,
   "id": "a78dea2b",
   "metadata": {},
   "outputs": [],
   "source": [
    "import ipeadatapy as ip"
   ]
  },
  {
   "cell_type": "code",
   "execution_count": 3,
   "id": "310d7d5a",
   "metadata": {},
   "outputs": [
    {
     "data": {
      "text/html": [
       "<div>\n",
       "<style scoped>\n",
       "    .dataframe tbody tr th:only-of-type {\n",
       "        vertical-align: middle;\n",
       "    }\n",
       "\n",
       "    .dataframe tbody tr th {\n",
       "        vertical-align: top;\n",
       "    }\n",
       "\n",
       "    .dataframe thead th {\n",
       "        text-align: right;\n",
       "    }\n",
       "</style>\n",
       "<table border=\"1\" class=\"dataframe\">\n",
       "  <thead>\n",
       "    <tr style=\"text-align: right;\">\n",
       "      <th></th>\n",
       "      <th>CODE</th>\n",
       "      <th>NAME</th>\n",
       "    </tr>\n",
       "  </thead>\n",
       "  <tbody>\n",
       "    <tr>\n",
       "      <th>1180</th>\n",
       "      <td>ADMISNC</td>\n",
       "      <td>Empregados - admissões - Novo Caged</td>\n",
       "    </tr>\n",
       "    <tr>\n",
       "      <th>1182</th>\n",
       "      <td>CAGED12_ADMISN12</td>\n",
       "      <td>Empregados - admissões - sem ajuste - novo Caged</td>\n",
       "    </tr>\n",
       "    <tr>\n",
       "      <th>1183</th>\n",
       "      <td>CAGED12_ADMISNAJU12</td>\n",
       "      <td>Empregados - admissões - com ajuste - novo Caged</td>\n",
       "    </tr>\n",
       "    <tr>\n",
       "      <th>1185</th>\n",
       "      <td>CAGED12_DESLIGN12</td>\n",
       "      <td>Empregados - demissões - sem ajuste - novo Caged</td>\n",
       "    </tr>\n",
       "    <tr>\n",
       "      <th>1186</th>\n",
       "      <td>CAGED12_DESLIGNAJU12</td>\n",
       "      <td>Empregados - demissões - com ajuste - novo Caged</td>\n",
       "    </tr>\n",
       "    <tr>\n",
       "      <th>1188</th>\n",
       "      <td>CAGED12_SALDON12</td>\n",
       "      <td>Empregados - saldo - sem ajuste - novo Caged</td>\n",
       "    </tr>\n",
       "    <tr>\n",
       "      <th>1189</th>\n",
       "      <td>CAGED12_SALDONAJU12</td>\n",
       "      <td>Empregados - saldo - com ajuste - novo Caged</td>\n",
       "    </tr>\n",
       "    <tr>\n",
       "      <th>1194</th>\n",
       "      <td>DESLIGNC</td>\n",
       "      <td>Empregados - demissões - Novo Caged</td>\n",
       "    </tr>\n",
       "  </tbody>\n",
       "</table>\n",
       "</div>"
      ],
      "text/plain": [
       "                      CODE                                              NAME\n",
       "1180               ADMISNC               Empregados - admissões - Novo Caged\n",
       "1182      CAGED12_ADMISN12  Empregados - admissões - sem ajuste - novo Caged\n",
       "1183   CAGED12_ADMISNAJU12  Empregados - admissões - com ajuste - novo Caged\n",
       "1185     CAGED12_DESLIGN12  Empregados - demissões - sem ajuste - novo Caged\n",
       "1186  CAGED12_DESLIGNAJU12  Empregados - demissões - com ajuste - novo Caged\n",
       "1188      CAGED12_SALDON12      Empregados - saldo - sem ajuste - novo Caged\n",
       "1189   CAGED12_SALDONAJU12      Empregados - saldo - com ajuste - novo Caged\n",
       "1194              DESLIGNC               Empregados - demissões - Novo Caged"
      ]
     },
     "execution_count": 3,
     "metadata": {},
     "output_type": "execute_result"
    }
   ],
   "source": [
    "ip.list_series('Caged')\n",
    "\n"
   ]
  },
  {
   "cell_type": "code",
   "execution_count": 10,
   "id": "7829db9c",
   "metadata": {},
   "outputs": [
    {
     "name": "stdout",
     "output_type": "stream",
     "text": [
      "Collecting sgs\n",
      "  Downloading sgs-2.1.1-py3-none-any.whl (9.8 kB)\n",
      "Requirement already satisfied: beautifulsoup4>=4.7.1 in ./anaconda3/lib/python3.9/site-packages (from sgs) (4.12.2)\n",
      "Requirement already satisfied: html5lib>=1.0.1 in ./anaconda3/lib/python3.9/site-packages (from sgs) (1.1)\n",
      "Requirement already satisfied: pandas>=0.24.2 in ./anaconda3/lib/python3.9/site-packages (from sgs) (2.0.1)\n",
      "Collecting retrying>=1.3.3 (from sgs)\n",
      "  Downloading retrying-1.3.4-py3-none-any.whl (11 kB)\n",
      "Requirement already satisfied: requests>=2.22.0 in ./anaconda3/lib/python3.9/site-packages (from sgs) (2.26.0)\n",
      "Requirement already satisfied: soupsieve>1.2 in ./anaconda3/lib/python3.9/site-packages (from beautifulsoup4>=4.7.1->sgs) (2.4)\n",
      "Requirement already satisfied: six>=1.9 in ./anaconda3/lib/python3.9/site-packages (from html5lib>=1.0.1->sgs) (1.16.0)\n",
      "Requirement already satisfied: webencodings in ./anaconda3/lib/python3.9/site-packages (from html5lib>=1.0.1->sgs) (0.5.1)\n",
      "Requirement already satisfied: python-dateutil>=2.8.2 in ./anaconda3/lib/python3.9/site-packages (from pandas>=0.24.2->sgs) (2.8.2)\n",
      "Requirement already satisfied: pytz>=2020.1 in ./anaconda3/lib/python3.9/site-packages (from pandas>=0.24.2->sgs) (2022.7.1)\n",
      "Requirement already satisfied: tzdata>=2022.1 in ./anaconda3/lib/python3.9/site-packages (from pandas>=0.24.2->sgs) (2023.3)\n",
      "Requirement already satisfied: numpy>=1.20.3 in ./anaconda3/lib/python3.9/site-packages (from pandas>=0.24.2->sgs) (1.21.4)\n",
      "Requirement already satisfied: urllib3<1.27,>=1.21.1 in ./anaconda3/lib/python3.9/site-packages (from requests>=2.22.0->sgs) (1.26.7)\n",
      "Requirement already satisfied: certifi>=2017.4.17 in ./anaconda3/lib/python3.9/site-packages (from requests>=2.22.0->sgs) (2021.10.8)\n",
      "Requirement already satisfied: charset-normalizer~=2.0.0 in ./anaconda3/lib/python3.9/site-packages (from requests>=2.22.0->sgs) (2.0.7)\n",
      "Requirement already satisfied: idna<4,>=2.5 in ./anaconda3/lib/python3.9/site-packages (from requests>=2.22.0->sgs) (3.3)\n",
      "Installing collected packages: retrying, sgs\n",
      "Successfully installed retrying-1.3.4 sgs-2.1.1\n"
     ]
    }
   ],
   "source": [
    "!pip install sgs"
   ]
  },
  {
   "cell_type": "code",
   "execution_count": 11,
   "id": "ab473e06",
   "metadata": {},
   "outputs": [],
   "source": [
    "# https://pypi.org/project/sgs/\n"
   ]
  },
  {
   "cell_type": "code",
   "execution_count": 14,
   "id": "24c8345f",
   "metadata": {},
   "outputs": [
    {
     "name": "stdout",
     "output_type": "stream",
     "text": [
      "Collecting python-bcb\n",
      "  Downloading python_bcb-0.1.8-py3-none-any.whl (15 kB)\n",
      "Collecting httpx<0.24.0,>=0.23.0 (from python-bcb)\n",
      "  Downloading httpx-0.23.3-py3-none-any.whl (71 kB)\n",
      "\u001b[2K     \u001b[38;2;114;156;31m━━━━━━━━━━━━━━━━━━━━━━━━━━━━━━━━━━━━━━━━\u001b[0m \u001b[32m71.5/71.5 kB\u001b[0m \u001b[31m1.1 MB/s\u001b[0m eta \u001b[36m0:00:00\u001b[0m MB/s\u001b[0m eta \u001b[36m0:00:01\u001b[0m\n",
      "\u001b[?25hRequirement already satisfied: lxml<5.0.0,>=4.9.1 in ./anaconda3/lib/python3.9/site-packages (from python-bcb) (4.9.1)\n",
      "Collecting pandas<2.0.0,>=1.4.4 (from python-bcb)\n",
      "  Downloading pandas-1.5.3-cp39-cp39-manylinux_2_17_x86_64.manylinux2014_x86_64.whl (12.2 MB)\n",
      "\u001b[2K     \u001b[38;2;114;156;31m━━━━━━━━━━━━━━━━━━━━━━━━━━━━━━━━━━━━━━━━\u001b[0m \u001b[32m12.2/12.2 MB\u001b[0m \u001b[31m5.7 MB/s\u001b[0m eta \u001b[36m0:00:00\u001b[0mm eta \u001b[36m0:00:01\u001b[0m[36m0:00:01\u001b[0m\n",
      "\u001b[?25hCollecting requests<3.0.0,>=2.28.1 (from python-bcb)\n",
      "  Downloading requests-2.32.3-py3-none-any.whl (64 kB)\n",
      "\u001b[2K     \u001b[38;2;114;156;31m━━━━━━━━━━━━━━━━━━━━━━━━━━━━━━━━━━━━━━━━\u001b[0m \u001b[32m64.9/64.9 kB\u001b[0m \u001b[31m6.4 MB/s\u001b[0m eta \u001b[36m0:00:00\u001b[0m\n",
      "\u001b[?25hRequirement already satisfied: certifi in ./anaconda3/lib/python3.9/site-packages (from httpx<0.24.0,>=0.23.0->python-bcb) (2021.10.8)\n",
      "Collecting httpcore<0.17.0,>=0.15.0 (from httpx<0.24.0,>=0.23.0->python-bcb)\n",
      "  Downloading httpcore-0.16.3-py3-none-any.whl (69 kB)\n",
      "\u001b[2K     \u001b[38;2;114;156;31m━━━━━━━━━━━━━━━━━━━━━━━━━━━━━━━━━━━━━━━━\u001b[0m \u001b[32m69.6/69.6 kB\u001b[0m \u001b[31m6.5 MB/s\u001b[0m eta \u001b[36m0:00:00\u001b[0m\n",
      "\u001b[?25hRequirement already satisfied: rfc3986[idna2008]<2,>=1.3 in ./anaconda3/lib/python3.9/site-packages (from httpx<0.24.0,>=0.23.0->python-bcb) (1.5.0)\n",
      "Requirement already satisfied: sniffio in ./anaconda3/lib/python3.9/site-packages (from httpx<0.24.0,>=0.23.0->python-bcb) (1.3.0)\n",
      "Requirement already satisfied: python-dateutil>=2.8.1 in ./anaconda3/lib/python3.9/site-packages (from pandas<2.0.0,>=1.4.4->python-bcb) (2.8.2)\n",
      "Requirement already satisfied: pytz>=2020.1 in ./anaconda3/lib/python3.9/site-packages (from pandas<2.0.0,>=1.4.4->python-bcb) (2022.7.1)\n",
      "Requirement already satisfied: numpy>=1.20.3 in ./anaconda3/lib/python3.9/site-packages (from pandas<2.0.0,>=1.4.4->python-bcb) (1.21.4)\n",
      "Requirement already satisfied: charset-normalizer<4,>=2 in ./anaconda3/lib/python3.9/site-packages (from requests<3.0.0,>=2.28.1->python-bcb) (2.0.7)\n",
      "Requirement already satisfied: idna<4,>=2.5 in ./anaconda3/lib/python3.9/site-packages (from requests<3.0.0,>=2.28.1->python-bcb) (3.3)\n",
      "Requirement already satisfied: urllib3<3,>=1.21.1 in ./anaconda3/lib/python3.9/site-packages (from requests<3.0.0,>=2.28.1->python-bcb) (1.26.7)\n",
      "Requirement already satisfied: h11<0.15,>=0.13 in ./anaconda3/lib/python3.9/site-packages (from httpcore<0.17.0,>=0.15.0->httpx<0.24.0,>=0.23.0->python-bcb) (0.14.0)\n",
      "Requirement already satisfied: anyio<5.0,>=3.0 in ./anaconda3/lib/python3.9/site-packages (from httpcore<0.17.0,>=0.15.0->httpx<0.24.0,>=0.23.0->python-bcb) (3.5.0)\n",
      "Requirement already satisfied: six>=1.5 in ./anaconda3/lib/python3.9/site-packages (from python-dateutil>=2.8.1->pandas<2.0.0,>=1.4.4->python-bcb) (1.16.0)\n",
      "Installing collected packages: requests, pandas, httpcore, httpx, python-bcb\n",
      "  Attempting uninstall: requests\n",
      "    Found existing installation: requests 2.26.0\n",
      "    Uninstalling requests-2.26.0:\n",
      "      Successfully uninstalled requests-2.26.0\n",
      "  Attempting uninstall: pandas\n",
      "    Found existing installation: pandas 2.0.1\n",
      "    Uninstalling pandas-2.0.1:\n",
      "      Successfully uninstalled pandas-2.0.1\n",
      "\u001b[31mERROR: pip's dependency resolver does not currently take into account all the packages that are installed. This behaviour is the source of the following dependency conflicts.\n",
      "conda-repo-cli 1.0.41 requires requests_mock, which is not installed.\n",
      "pytorch-pretrained-bert 0.6.2 requires boto3, which is not installed.\n",
      "spyder 5.4.3 requires pyqtwebengine<5.16, which is not installed.\n",
      "bokeh 3.1.1 requires tornado>=5.1, but you have tornado 4.5.3 which is incompatible.\n",
      "conda-repo-cli 1.0.41 requires clyent==1.2.1, but you have clyent 1.2.2 which is incompatible.\n",
      "conda-repo-cli 1.0.41 requires nbformat==5.4.0, but you have nbformat 5.7.0 which is incompatible.\n",
      "conda-repo-cli 1.0.41 requires requests==2.28.1, but you have requests 2.32.3 which is incompatible.\n",
      "dataprep 0.4.5 requires bokeh<3,>=2, but you have bokeh 3.1.1 which is incompatible.\n",
      "dataprep 0.4.5 requires ipywidgets<8.0,>=7.5, but you have ipywidgets 8.0.4 which is incompatible.\n",
      "jupyterlab-server 2.22.0 requires importlib-metadata>=4.8.3; python_version < \"3.10\", but you have importlib-metadata 4.8.1 which is incompatible.\n",
      "jupyterlab-server 2.22.0 requires packaging>=21.3, but you have packaging 21.2 which is incompatible.\n",
      "mt5linux 0.1.9 requires requests==2.26.0, but you have requests 2.32.3 which is incompatible.\n",
      "pandasai 0.1.1 requires pandas<3.0.0,>=2.0.1, but you have pandas 1.5.3 which is incompatible.\n",
      "statsmodels 0.13.5 requires packaging>=21.3, but you have packaging 21.2 which is incompatible.\n",
      "tensorboard 2.11.2 requires google-auth<3,>=1.6.3, but you have google-auth 1.4.2 which is incompatible.\n",
      "tensorflow 2.11.0 requires protobuf<3.20,>=3.9.2, but you have protobuf 3.20.3 which is incompatible.\n",
      "tradingcomdados 1.3.7 requires numpy==1.25.2, but you have numpy 1.21.4 which is incompatible.\n",
      "tradingcomdados 1.3.7 requires pandas==2.0.3, but you have pandas 1.5.3 which is incompatible.\n",
      "tradingcomdados 1.3.7 requires requests==2.31.0, but you have requests 2.32.3 which is incompatible.\u001b[0m\u001b[31m\n",
      "\u001b[0mSuccessfully installed httpcore-0.16.3 httpx-0.23.3 pandas-1.5.3 python-bcb-0.1.8 requests-2.31.0\n"
     ]
    }
   ],
   "source": [
    "!pip install python-bcb"
   ]
  },
  {
   "cell_type": "code",
   "execution_count": 16,
   "id": "a8037400",
   "metadata": {},
   "outputs": [],
   "source": [
    "from bcb import sgs"
   ]
  },
  {
   "cell_type": "code",
   "execution_count": 17,
   "id": "492a8679",
   "metadata": {},
   "outputs": [],
   "source": [
    "from bcb import PTAX"
   ]
  },
  {
   "cell_type": "code",
   "execution_count": 18,
   "id": "f7497ad1",
   "metadata": {},
   "outputs": [],
   "source": [
    "ptax = PTAX()"
   ]
  },
  {
   "cell_type": "code",
   "execution_count": 19,
   "id": "9a352073",
   "metadata": {},
   "outputs": [
    {
     "name": "stdout",
     "output_type": "stream",
     "text": [
      "EntitySets:\n",
      "  Moedas\n",
      "FunctionImports:\n",
      "  CotacaoMoedaPeriodoFechamento\n",
      "  CotacaoMoedaAberturaOuIntermediario\n",
      "  CotacaoMoedaDia\n",
      "  CotacaoMoedaPeriodo\n",
      "  CotacaoDolarDia\n",
      "  CotacaoDolarPeriodo\n"
     ]
    }
   ],
   "source": [
    "ptax.describe()"
   ]
  },
  {
   "cell_type": "code",
   "execution_count": 20,
   "id": "1c2c5ab5",
   "metadata": {},
   "outputs": [
    {
     "name": "stdout",
     "output_type": "stream",
     "text": [
      "\n",
      "EntitySet (Endpoint): Moedas\n",
      "EntityType: br.gov.bcb.olinda.servico.PTAX.TipoMoeda\n",
      "Properties: simbolo<str>, nomeFormatado<str>, tipoMoeda<str>\n"
     ]
    }
   ],
   "source": [
    "ptax.describe('Moedas')"
   ]
  },
  {
   "cell_type": "code",
   "execution_count": 21,
   "id": "60007abc",
   "metadata": {},
   "outputs": [],
   "source": [
    "ep = ptax.get_endpoint('Moedas')"
   ]
  },
  {
   "cell_type": "code",
   "execution_count": 22,
   "id": "744372ec",
   "metadata": {},
   "outputs": [
    {
     "data": {
      "text/plain": [
       "<bcb.Endpoint at 0x7f2fcb49e070>"
      ]
     },
     "execution_count": 22,
     "metadata": {},
     "output_type": "execute_result"
    }
   ],
   "source": [
    "ep"
   ]
  },
  {
   "cell_type": "code",
   "execution_count": 23,
   "id": "cd175ecb",
   "metadata": {},
   "outputs": [
    {
     "name": "stdout",
     "output_type": "stream",
     "text": [
      "<bcb.Endpoint object at 0x7f2fcb49e070>\n"
     ]
    }
   ],
   "source": [
    "print(ep)"
   ]
  },
  {
   "cell_type": "code",
   "execution_count": 24,
   "id": "703fcfa7",
   "metadata": {},
   "outputs": [
    {
     "data": {
      "text/html": [
       "<div>\n",
       "<style scoped>\n",
       "    .dataframe tbody tr th:only-of-type {\n",
       "        vertical-align: middle;\n",
       "    }\n",
       "\n",
       "    .dataframe tbody tr th {\n",
       "        vertical-align: top;\n",
       "    }\n",
       "\n",
       "    .dataframe thead th {\n",
       "        text-align: right;\n",
       "    }\n",
       "</style>\n",
       "<table border=\"1\" class=\"dataframe\">\n",
       "  <thead>\n",
       "    <tr style=\"text-align: right;\">\n",
       "      <th></th>\n",
       "      <th>simbolo</th>\n",
       "      <th>nomeFormatado</th>\n",
       "      <th>tipoMoeda</th>\n",
       "    </tr>\n",
       "  </thead>\n",
       "  <tbody>\n",
       "    <tr>\n",
       "      <th>0</th>\n",
       "      <td>AUD</td>\n",
       "      <td>Dólar australiano</td>\n",
       "      <td>B</td>\n",
       "    </tr>\n",
       "    <tr>\n",
       "      <th>1</th>\n",
       "      <td>CAD</td>\n",
       "      <td>Dólar canadense</td>\n",
       "      <td>A</td>\n",
       "    </tr>\n",
       "    <tr>\n",
       "      <th>2</th>\n",
       "      <td>CHF</td>\n",
       "      <td>Franco suíço</td>\n",
       "      <td>A</td>\n",
       "    </tr>\n",
       "    <tr>\n",
       "      <th>3</th>\n",
       "      <td>DKK</td>\n",
       "      <td>Coroa dinamarquesa</td>\n",
       "      <td>A</td>\n",
       "    </tr>\n",
       "    <tr>\n",
       "      <th>4</th>\n",
       "      <td>EUR</td>\n",
       "      <td>Euro</td>\n",
       "      <td>B</td>\n",
       "    </tr>\n",
       "    <tr>\n",
       "      <th>5</th>\n",
       "      <td>GBP</td>\n",
       "      <td>Libra Esterlina</td>\n",
       "      <td>B</td>\n",
       "    </tr>\n",
       "    <tr>\n",
       "      <th>6</th>\n",
       "      <td>JPY</td>\n",
       "      <td>Iene</td>\n",
       "      <td>A</td>\n",
       "    </tr>\n",
       "    <tr>\n",
       "      <th>7</th>\n",
       "      <td>NOK</td>\n",
       "      <td>Coroa norueguesa</td>\n",
       "      <td>A</td>\n",
       "    </tr>\n",
       "    <tr>\n",
       "      <th>8</th>\n",
       "      <td>SEK</td>\n",
       "      <td>Coroa sueca</td>\n",
       "      <td>A</td>\n",
       "    </tr>\n",
       "    <tr>\n",
       "      <th>9</th>\n",
       "      <td>USD</td>\n",
       "      <td>Dólar dos Estados Unidos</td>\n",
       "      <td>A</td>\n",
       "    </tr>\n",
       "  </tbody>\n",
       "</table>\n",
       "</div>"
      ],
      "text/plain": [
       "  simbolo             nomeFormatado tipoMoeda\n",
       "0     AUD         Dólar australiano         B\n",
       "1     CAD           Dólar canadense         A\n",
       "2     CHF              Franco suíço         A\n",
       "3     DKK        Coroa dinamarquesa         A\n",
       "4     EUR                      Euro         B\n",
       "5     GBP           Libra Esterlina         B\n",
       "6     JPY                      Iene         A\n",
       "7     NOK          Coroa norueguesa         A\n",
       "8     SEK               Coroa sueca         A\n",
       "9     USD  Dólar dos Estados Unidos         A"
      ]
     },
     "execution_count": 24,
     "metadata": {},
     "output_type": "execute_result"
    }
   ],
   "source": [
    "ep.query().limit(10).collect()"
   ]
  },
  {
   "cell_type": "code",
   "execution_count": 25,
   "id": "d00537f7",
   "metadata": {},
   "outputs": [
    {
     "name": "stdout",
     "output_type": "stream",
     "text": [
      "\n",
      "Function: CotacaoMoedaDia\n",
      "Parameters: moeda <str>, dataCotacao <str>\n",
      "EntitySet: _CotacaoMoedaDia\n",
      "EntityType: br.gov.bcb.olinda.servico.PTAX.TipoCotacaoMoeda\n",
      "Properties: paridadeCompra <float>, paridadeVenda <float>, cotacaoCompra <float>, cotacaoVenda <float>, dataHoraCotacao <str>, tipoBoletim <str>\n"
     ]
    }
   ],
   "source": [
    "ptax.describe('CotacaoMoedaDia')"
   ]
  },
  {
   "cell_type": "code",
   "execution_count": 26,
   "id": "32220053",
   "metadata": {},
   "outputs": [],
   "source": [
    "ep = ptax.get_endpoint('CotacaoMoedaDia')"
   ]
  },
  {
   "cell_type": "code",
   "execution_count": 27,
   "id": "db4c48f4",
   "metadata": {},
   "outputs": [
    {
     "data": {
      "text/html": [
       "<div>\n",
       "<style scoped>\n",
       "    .dataframe tbody tr th:only-of-type {\n",
       "        vertical-align: middle;\n",
       "    }\n",
       "\n",
       "    .dataframe tbody tr th {\n",
       "        vertical-align: top;\n",
       "    }\n",
       "\n",
       "    .dataframe thead th {\n",
       "        text-align: right;\n",
       "    }\n",
       "</style>\n",
       "<table border=\"1\" class=\"dataframe\">\n",
       "  <thead>\n",
       "    <tr style=\"text-align: right;\">\n",
       "      <th></th>\n",
       "      <th>paridadeCompra</th>\n",
       "      <th>paridadeVenda</th>\n",
       "      <th>cotacaoCompra</th>\n",
       "      <th>cotacaoVenda</th>\n",
       "      <th>dataHoraCotacao</th>\n",
       "      <th>tipoBoletim</th>\n",
       "    </tr>\n",
       "  </thead>\n",
       "  <tbody>\n",
       "    <tr>\n",
       "      <th>0</th>\n",
       "      <td>1.0</td>\n",
       "      <td>1.0</td>\n",
       "      <td>5.8097</td>\n",
       "      <td>5.8103</td>\n",
       "      <td>2025-02-04 10:03:25.998</td>\n",
       "      <td>Abertura</td>\n",
       "    </tr>\n",
       "    <tr>\n",
       "      <th>1</th>\n",
       "      <td>1.0</td>\n",
       "      <td>1.0</td>\n",
       "      <td>5.8118</td>\n",
       "      <td>5.8124</td>\n",
       "      <td>2025-02-04 11:08:26.579</td>\n",
       "      <td>Intermediário</td>\n",
       "    </tr>\n",
       "    <tr>\n",
       "      <th>2</th>\n",
       "      <td>1.0</td>\n",
       "      <td>1.0</td>\n",
       "      <td>5.7837</td>\n",
       "      <td>5.7843</td>\n",
       "      <td>2025-02-04 12:03:26.501</td>\n",
       "      <td>Intermediário</td>\n",
       "    </tr>\n",
       "    <tr>\n",
       "      <th>3</th>\n",
       "      <td>1.0</td>\n",
       "      <td>1.0</td>\n",
       "      <td>5.7633</td>\n",
       "      <td>5.7639</td>\n",
       "      <td>2025-02-04 13:05:40.169</td>\n",
       "      <td>Intermediário</td>\n",
       "    </tr>\n",
       "    <tr>\n",
       "      <th>4</th>\n",
       "      <td>1.0</td>\n",
       "      <td>1.0</td>\n",
       "      <td>5.7921</td>\n",
       "      <td>5.7927</td>\n",
       "      <td>2025-02-04 13:05:40.177</td>\n",
       "      <td>Fechamento PTAX</td>\n",
       "    </tr>\n",
       "  </tbody>\n",
       "</table>\n",
       "</div>"
      ],
      "text/plain": [
       "   paridadeCompra  paridadeVenda  cotacaoCompra  cotacaoVenda  \\\n",
       "0             1.0            1.0         5.8097        5.8103   \n",
       "1             1.0            1.0         5.8118        5.8124   \n",
       "2             1.0            1.0         5.7837        5.7843   \n",
       "3             1.0            1.0         5.7633        5.7639   \n",
       "4             1.0            1.0         5.7921        5.7927   \n",
       "\n",
       "           dataHoraCotacao      tipoBoletim  \n",
       "0  2025-02-04 10:03:25.998         Abertura  \n",
       "1  2025-02-04 11:08:26.579    Intermediário  \n",
       "2  2025-02-04 12:03:26.501    Intermediário  \n",
       "3  2025-02-04 13:05:40.169    Intermediário  \n",
       "4  2025-02-04 13:05:40.177  Fechamento PTAX  "
      ]
     },
     "execution_count": 27,
     "metadata": {},
     "output_type": "execute_result"
    }
   ],
   "source": [
    "(ep.query()\n",
    "   .parameters(moeda='USD', dataCotacao='2/4/2025')\n",
    "   .collect())"
   ]
  },
  {
   "cell_type": "code",
   "execution_count": 28,
   "id": "bdc37cde",
   "metadata": {},
   "outputs": [
    {
     "name": "stdout",
     "output_type": "stream",
     "text": [
      "\n",
      "Function: CotacaoMoedaPeriodo\n",
      "Parameters: moeda <str>, dataInicial <str>, dataFinalCotacao <str>\n",
      "EntitySet: _CotacaoMoedaPeriodo\n",
      "EntityType: br.gov.bcb.olinda.servico.PTAX.TipoCotacaoMoeda\n",
      "Properties: paridadeCompra <float>, paridadeVenda <float>, cotacaoCompra <float>, cotacaoVenda <float>, dataHoraCotacao <str>, tipoBoletim <str>\n"
     ]
    }
   ],
   "source": [
    "ptax.describe('CotacaoMoedaPeriodo')"
   ]
  },
  {
   "cell_type": "code",
   "execution_count": 29,
   "id": "d4c5d457",
   "metadata": {},
   "outputs": [],
   "source": [
    "ep = ptax.get_endpoint('CotacaoMoedaPeriodo')\n"
   ]
  },
  {
   "cell_type": "code",
   "execution_count": 30,
   "id": "028fd225",
   "metadata": {},
   "outputs": [
    {
     "data": {
      "text/html": [
       "<div>\n",
       "<style scoped>\n",
       "    .dataframe tbody tr th:only-of-type {\n",
       "        vertical-align: middle;\n",
       "    }\n",
       "\n",
       "    .dataframe tbody tr th {\n",
       "        vertical-align: top;\n",
       "    }\n",
       "\n",
       "    .dataframe thead th {\n",
       "        text-align: right;\n",
       "    }\n",
       "</style>\n",
       "<table border=\"1\" class=\"dataframe\">\n",
       "  <thead>\n",
       "    <tr style=\"text-align: right;\">\n",
       "      <th></th>\n",
       "      <th>paridadeCompra</th>\n",
       "      <th>paridadeVenda</th>\n",
       "      <th>cotacaoCompra</th>\n",
       "      <th>cotacaoVenda</th>\n",
       "      <th>dataHoraCotacao</th>\n",
       "      <th>tipoBoletim</th>\n",
       "    </tr>\n",
       "  </thead>\n",
       "  <tbody>\n",
       "    <tr>\n",
       "      <th>0</th>\n",
       "      <td>1.0</td>\n",
       "      <td>1.0</td>\n",
       "      <td>5.8517</td>\n",
       "      <td>5.8523</td>\n",
       "      <td>2025-02-03 10:04:27.619</td>\n",
       "      <td>Abertura</td>\n",
       "    </tr>\n",
       "    <tr>\n",
       "      <th>1</th>\n",
       "      <td>1.0</td>\n",
       "      <td>1.0</td>\n",
       "      <td>5.8848</td>\n",
       "      <td>5.8854</td>\n",
       "      <td>2025-02-03 11:03:48.179</td>\n",
       "      <td>Intermediário</td>\n",
       "    </tr>\n",
       "    <tr>\n",
       "      <th>2</th>\n",
       "      <td>1.0</td>\n",
       "      <td>1.0</td>\n",
       "      <td>5.9025</td>\n",
       "      <td>5.9031</td>\n",
       "      <td>2025-02-03 12:08:25.887</td>\n",
       "      <td>Intermediário</td>\n",
       "    </tr>\n",
       "    <tr>\n",
       "      <th>3</th>\n",
       "      <td>1.0</td>\n",
       "      <td>1.0</td>\n",
       "      <td>5.8335</td>\n",
       "      <td>5.8341</td>\n",
       "      <td>2025-02-03 13:06:26.021</td>\n",
       "      <td>Intermediário</td>\n",
       "    </tr>\n",
       "    <tr>\n",
       "      <th>4</th>\n",
       "      <td>1.0</td>\n",
       "      <td>1.0</td>\n",
       "      <td>5.8681</td>\n",
       "      <td>5.8687</td>\n",
       "      <td>2025-02-03 13:06:26.028</td>\n",
       "      <td>Fechamento</td>\n",
       "    </tr>\n",
       "    <tr>\n",
       "      <th>5</th>\n",
       "      <td>1.0</td>\n",
       "      <td>1.0</td>\n",
       "      <td>5.8097</td>\n",
       "      <td>5.8103</td>\n",
       "      <td>2025-02-04 10:03:25.998</td>\n",
       "      <td>Abertura</td>\n",
       "    </tr>\n",
       "    <tr>\n",
       "      <th>6</th>\n",
       "      <td>1.0</td>\n",
       "      <td>1.0</td>\n",
       "      <td>5.8118</td>\n",
       "      <td>5.8124</td>\n",
       "      <td>2025-02-04 11:08:26.579</td>\n",
       "      <td>Intermediário</td>\n",
       "    </tr>\n",
       "    <tr>\n",
       "      <th>7</th>\n",
       "      <td>1.0</td>\n",
       "      <td>1.0</td>\n",
       "      <td>5.7837</td>\n",
       "      <td>5.7843</td>\n",
       "      <td>2025-02-04 12:03:26.501</td>\n",
       "      <td>Intermediário</td>\n",
       "    </tr>\n",
       "    <tr>\n",
       "      <th>8</th>\n",
       "      <td>1.0</td>\n",
       "      <td>1.0</td>\n",
       "      <td>5.7633</td>\n",
       "      <td>5.7639</td>\n",
       "      <td>2025-02-04 13:05:40.169</td>\n",
       "      <td>Intermediário</td>\n",
       "    </tr>\n",
       "    <tr>\n",
       "      <th>9</th>\n",
       "      <td>1.0</td>\n",
       "      <td>1.0</td>\n",
       "      <td>5.7921</td>\n",
       "      <td>5.7927</td>\n",
       "      <td>2025-02-04 13:05:40.177</td>\n",
       "      <td>Fechamento</td>\n",
       "    </tr>\n",
       "  </tbody>\n",
       "</table>\n",
       "</div>"
      ],
      "text/plain": [
       "   paridadeCompra  paridadeVenda  cotacaoCompra  cotacaoVenda  \\\n",
       "0             1.0            1.0         5.8517        5.8523   \n",
       "1             1.0            1.0         5.8848        5.8854   \n",
       "2             1.0            1.0         5.9025        5.9031   \n",
       "3             1.0            1.0         5.8335        5.8341   \n",
       "4             1.0            1.0         5.8681        5.8687   \n",
       "5             1.0            1.0         5.8097        5.8103   \n",
       "6             1.0            1.0         5.8118        5.8124   \n",
       "7             1.0            1.0         5.7837        5.7843   \n",
       "8             1.0            1.0         5.7633        5.7639   \n",
       "9             1.0            1.0         5.7921        5.7927   \n",
       "\n",
       "           dataHoraCotacao    tipoBoletim  \n",
       "0  2025-02-03 10:04:27.619       Abertura  \n",
       "1  2025-02-03 11:03:48.179  Intermediário  \n",
       "2  2025-02-03 12:08:25.887  Intermediário  \n",
       "3  2025-02-03 13:06:26.021  Intermediário  \n",
       "4  2025-02-03 13:06:26.028     Fechamento  \n",
       "5  2025-02-04 10:03:25.998       Abertura  \n",
       "6  2025-02-04 11:08:26.579  Intermediário  \n",
       "7  2025-02-04 12:03:26.501  Intermediário  \n",
       "8  2025-02-04 13:05:40.169  Intermediário  \n",
       "9  2025-02-04 13:05:40.177     Fechamento  "
      ]
     },
     "execution_count": 30,
     "metadata": {},
     "output_type": "execute_result"
    }
   ],
   "source": [
    "(ep.query()\n",
    "   .parameters(moeda='USD',\n",
    "               dataInicial='2/1/2025',\n",
    "               dataFinalCotacao='2/4/2025')\n",
    "   .collect())"
   ]
  },
  {
   "cell_type": "code",
   "execution_count": null,
   "id": "e8af2b80",
   "metadata": {},
   "outputs": [],
   "source": []
  }
 ],
 "metadata": {
  "kernelspec": {
   "display_name": "Python 3 (ipykernel)",
   "language": "python",
   "name": "python3"
  },
  "language_info": {
   "codemirror_mode": {
    "name": "ipython",
    "version": 3
   },
   "file_extension": ".py",
   "mimetype": "text/x-python",
   "name": "python",
   "nbconvert_exporter": "python",
   "pygments_lexer": "ipython3",
   "version": "3.9.16"
  }
 },
 "nbformat": 4,
 "nbformat_minor": 5
}
